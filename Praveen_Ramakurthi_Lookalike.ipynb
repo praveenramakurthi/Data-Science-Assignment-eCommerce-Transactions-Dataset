{
  "nbformat": 4,
  "nbformat_minor": 0,
  "metadata": {
    "colab": {
      "provenance": []
    },
    "kernelspec": {
      "name": "python3",
      "display_name": "Python 3"
    },
    "language_info": {
      "name": "python"
    }
  },
  "cells": [
    {
      "cell_type": "code",
      "execution_count": null,
      "metadata": {
        "id": "GC9Dbj1aBDJd"
      },
      "outputs": [],
      "source": [
        "import pandas as pd\n",
        "import matplotlib.pyplot as plt\n",
        "import numpy as np\n",
        "import seaborn as sns"
      ]
    },
    {
      "cell_type": "code",
      "source": [
        "customers=pd.read_csv('Customers.csv')\n",
        "products=pd.read_csv('Products.csv')\n",
        "transactions=pd.read_csv('Transactions.csv')"
      ],
      "metadata": {
        "id": "iFJZg3maBtrD"
      },
      "execution_count": null,
      "outputs": []
    },
    {
      "cell_type": "code",
      "source": [
        "print(customers.info())\n",
        "print(products.info())\n",
        "print(transactions.info())"
      ],
      "metadata": {
        "colab": {
          "base_uri": "https://localhost:8080/"
        },
        "id": "mFfqEJ09B_Tj",
        "outputId": "e6f9d50a-3b2a-44f0-edc9-931d07247f9e"
      },
      "execution_count": null,
      "outputs": [
        {
          "output_type": "stream",
          "name": "stdout",
          "text": [
            "<class 'pandas.core.frame.DataFrame'>\n",
            "RangeIndex: 200 entries, 0 to 199\n",
            "Data columns (total 4 columns):\n",
            " #   Column        Non-Null Count  Dtype \n",
            "---  ------        --------------  ----- \n",
            " 0   CustomerID    200 non-null    object\n",
            " 1   CustomerName  200 non-null    object\n",
            " 2   Region        200 non-null    object\n",
            " 3   SignupDate    200 non-null    object\n",
            "dtypes: object(4)\n",
            "memory usage: 6.4+ KB\n",
            "None\n",
            "<class 'pandas.core.frame.DataFrame'>\n",
            "RangeIndex: 100 entries, 0 to 99\n",
            "Data columns (total 4 columns):\n",
            " #   Column       Non-Null Count  Dtype  \n",
            "---  ------       --------------  -----  \n",
            " 0   ProductID    100 non-null    object \n",
            " 1   ProductName  100 non-null    object \n",
            " 2   Category     100 non-null    object \n",
            " 3   Price        100 non-null    float64\n",
            "dtypes: float64(1), object(3)\n",
            "memory usage: 3.3+ KB\n",
            "None\n",
            "<class 'pandas.core.frame.DataFrame'>\n",
            "RangeIndex: 1000 entries, 0 to 999\n",
            "Data columns (total 7 columns):\n",
            " #   Column           Non-Null Count  Dtype  \n",
            "---  ------           --------------  -----  \n",
            " 0   TransactionID    1000 non-null   object \n",
            " 1   CustomerID       1000 non-null   object \n",
            " 2   ProductID        1000 non-null   object \n",
            " 3   TransactionDate  1000 non-null   object \n",
            " 4   Quantity         1000 non-null   int64  \n",
            " 5   TotalValue       1000 non-null   float64\n",
            " 6   Price            1000 non-null   float64\n",
            "dtypes: float64(2), int64(1), object(4)\n",
            "memory usage: 54.8+ KB\n",
            "None\n"
          ]
        }
      ]
    },
    {
      "cell_type": "code",
      "source": [
        "#merging datasets\n",
        "merge_data=pd.merge(transactions,customers,on=\"CustomerID\",how=\"inner\")\n",
        "merge_data=pd.merge(merge_data,products,on=\"ProductID\",how=\"inner\")\n",
        "print(merge_data)"
      ],
      "metadata": {
        "colab": {
          "base_uri": "https://localhost:8080/"
        },
        "id": "zAundop6CEP4",
        "outputId": "26966c04-bf62-41b6-e798-80cbcbcac7ec"
      },
      "execution_count": null,
      "outputs": [
        {
          "output_type": "stream",
          "name": "stdout",
          "text": [
            "    TransactionID CustomerID ProductID      TransactionDate  Quantity  \\\n",
            "0          T00001      C0199      P067  2024-08-25 12:38:23         1   \n",
            "1          T00112      C0146      P067  2024-05-27 22:23:54         1   \n",
            "2          T00166      C0127      P067  2024-04-25 07:38:55         1   \n",
            "3          T00272      C0087      P067  2024-03-26 22:55:37         2   \n",
            "4          T00363      C0070      P067  2024-03-21 15:10:10         3   \n",
            "..            ...        ...       ...                  ...       ...   \n",
            "995        T00496      C0118      P037  2024-10-24 08:30:27         1   \n",
            "996        T00759      C0059      P037  2024-06-04 02:15:24         3   \n",
            "997        T00922      C0018      P037  2024-04-05 13:05:32         4   \n",
            "998        T00959      C0115      P037  2024-09-29 10:16:02         2   \n",
            "999        T00992      C0024      P037  2024-04-21 10:52:24         1   \n",
            "\n",
            "     TotalValue  Price_x          CustomerName         Region  SignupDate  \\\n",
            "0        300.68   300.68        Andrea Jenkins         Europe  2022-12-03   \n",
            "1        300.68   300.68       Brittany Harvey           Asia  2024-09-04   \n",
            "2        300.68   300.68       Kathryn Stevens         Europe  2024-04-04   \n",
            "3        601.36   300.68       Travis Campbell  South America  2024-04-11   \n",
            "4        902.04   300.68         Timothy Perez         Europe  2022-03-15   \n",
            "..          ...      ...                   ...            ...         ...   \n",
            "995      459.86   459.86            Jacob Holt  South America  2022-01-22   \n",
            "996     1379.58   459.86  Mrs. Kimberly Wright  North America  2024-04-07   \n",
            "997     1839.44   459.86          Tyler Haynes  North America  2024-09-21   \n",
            "998      919.72   459.86       Joshua Hamilton           Asia  2024-11-11   \n",
            "999      459.86   459.86        Michele Cooley  North America  2024-02-05   \n",
            "\n",
            "                         ProductName     Category  Price_y  \n",
            "0    ComfortLiving Bluetooth Speaker  Electronics   300.68  \n",
            "1    ComfortLiving Bluetooth Speaker  Electronics   300.68  \n",
            "2    ComfortLiving Bluetooth Speaker  Electronics   300.68  \n",
            "3    ComfortLiving Bluetooth Speaker  Electronics   300.68  \n",
            "4    ComfortLiving Bluetooth Speaker  Electronics   300.68  \n",
            "..                               ...          ...      ...  \n",
            "995             SoundWave Smartwatch  Electronics   459.86  \n",
            "996             SoundWave Smartwatch  Electronics   459.86  \n",
            "997             SoundWave Smartwatch  Electronics   459.86  \n",
            "998             SoundWave Smartwatch  Electronics   459.86  \n",
            "999             SoundWave Smartwatch  Electronics   459.86  \n",
            "\n",
            "[1000 rows x 13 columns]\n"
          ]
        }
      ]
    },
    {
      "cell_type": "code",
      "source": [
        "customer_profiles=merge_data.groupby(\"CustomerID\").agg({\n",
        "    \"TotalValue\": \"sum\",  # Total spending\n",
        "    \"TransactionID\": \"count\",  # Purchase frequency\n",
        "    \"ProductID\": lambda x: list(x),  # List of purchased products\n",
        "    \"Category\": lambda x: list(x)  # Product categories\n",
        "}).reset_index()\n",
        "\n",
        "# Rename columns for clarity\n",
        "customer_profiles.rename(columns={\"TotalValue\": \"TotalSpending\", \"TransactionID\": \"PurchaseFrequency\"}, inplace=True)\n"
      ],
      "metadata": {
        "id": "V0_SSBt9CQnh"
      },
      "execution_count": null,
      "outputs": []
    },
    {
      "cell_type": "code",
      "source": [
        "from sklearn.metrics.pairwise import cosine_similarity\n",
        "from sklearn.preprocessing import StandardScaler\n",
        "from sklearn.feature_extraction.text import TfidfVectorizer"
      ],
      "metadata": {
        "id": "gLCFbL9UCs4I"
      },
      "execution_count": null,
      "outputs": []
    },
    {
      "cell_type": "code",
      "source": [
        "# Aggregate transaction data\n",
        "transaction_summary = transactions.groupby('CustomerID').agg(\n",
        "    TotalSpending=('TotalValue', 'sum'),\n",
        "    PurchaseFrequency=('TransactionID', 'count')\n",
        ").reset_index()\n",
        "\n",
        "# Merge with customers dataset\n",
        "customer_profiles = pd.merge(customers, transaction_summary, on='CustomerID', how='left')\n",
        "\n",
        "# Fill missing values with 0\n",
        "customer_profiles[['TotalSpending', 'PurchaseFrequency']] = customer_profiles[['TotalSpending', 'PurchaseFrequency']].fillna(0)\n"
      ],
      "metadata": {
        "id": "XkuAjEMpEYwT"
      },
      "execution_count": null,
      "outputs": []
    },
    {
      "cell_type": "code",
      "source": [
        "# Merge transactions with product data\n",
        "transactions_products = pd.merge(transactions, products, on='ProductID')\n",
        "\n",
        "# Create a space-separated string of product categories for each customer\n",
        "category_preferences = transactions_products.groupby('CustomerID')['Category'].apply(lambda x: ' '.join(x)).reset_index()\n",
        "category_preferences.rename(columns={'Category': 'CategoryPreferences'}, inplace=True)\n",
        "\n",
        "# Merge with customer profiles\n",
        "customer_profiles = pd.merge(customer_profiles, category_preferences, on='CustomerID', how='left')\n",
        "\n",
        "# Fill missing category preferences with an empty string\n",
        "customer_profiles['CategoryPreferences'] = customer_profiles['CategoryPreferences'].fillna('')\n"
      ],
      "metadata": {
        "id": "tZqJayoCFKiH"
      },
      "execution_count": null,
      "outputs": []
    },
    {
      "cell_type": "code",
      "source": [
        "# Apply TF-IDF Vectorization\n",
        "tfidf = TfidfVectorizer()\n",
        "category_vectors = tfidf.fit_transform(customer_profiles['CategoryPreferences'])\n",
        "\n",
        "# Convert TF-IDF matrix to a DataFrame and merge\n",
        "category_vectors_df = pd.DataFrame(category_vectors.toarray())\n",
        "customer_profiles = pd.concat([customer_profiles, category_vectors_df], axis=1)\n"
      ],
      "metadata": {
        "id": "dNBBjDdqFN1u"
      },
      "execution_count": null,
      "outputs": []
    },
    {
      "cell_type": "code",
      "source": [
        "# Select features for similarity calculation\n",
        "features = customer_profiles[['TotalSpending', 'PurchaseFrequency'] + list(category_vectors_df.columns)]\n",
        "\n",
        "# Compute similarity matrix\n",
        "similarity_matrix = cosine_similarity(features)\n"
      ],
      "metadata": {
        "id": "8fPSAghaFQaT"
      },
      "execution_count": null,
      "outputs": []
    },
    {
      "cell_type": "code",
      "source": [
        "lookalikes = {}\n",
        "for i, customer_id in enumerate(customer_profiles['CustomerID']):\n",
        "    # Get similarity scores for the current customer\n",
        "    similarity_scores = list(enumerate(similarity_matrix[i]))\n",
        "\n",
        "    # Sort by similarity score in descending order and exclude self-similarity\n",
        "    similar_customers = sorted(similarity_scores, key=lambda x: x[1], reverse=True)[1:4]\n",
        "\n",
        "    # Save the top 3 similar customers with their scores\n",
        "    lookalikes[customer_id] = [\n",
        "        (customer_profiles['CustomerID'][idx], round(score, 2)) for idx, score in similar_customers\n",
        "    ]\n"
      ],
      "metadata": {
        "id": "cwaaBeClFSjV"
      },
      "execution_count": null,
      "outputs": []
    },
    {
      "cell_type": "code",
      "source": [
        "# Prepare the Lookalike data\n",
        "lookalike_data = []\n",
        "for customer_id, similar_list in lookalikes.items():\n",
        "    lookalike_data.append({\n",
        "        'CustomerID': customer_id,\n",
        "        'Lookalikes': similar_list\n",
        "    })\n",
        "\n",
        "# Convert to DataFrame\n",
        "lookalike_df = pd.DataFrame(lookalike_data)\n",
        "\n",
        "# Save to CSV\n",
        "lookalike_df.to_csv('Lookalike.csv', index=False)\n"
      ],
      "metadata": {
        "id": "exvgZLEkFVQ-"
      },
      "execution_count": null,
      "outputs": []
    }
  ]
}